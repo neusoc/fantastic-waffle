{
 "cells": [
  {
   "cell_type": "code",
   "execution_count": 6,
   "metadata": {},
   "outputs": [],
   "source": [
    "import pandas as pd\n",
    "from os import listdir\n",
    "from os.path import isfile, join, basename,splitext\n",
    "import pinyin\n",
    "%matplotlib inline"
   ]
  },
  {
   "cell_type": "code",
   "execution_count": 2,
   "metadata": {},
   "outputs": [],
   "source": [
    "dataPath = \"../Competition/赛题1数据集\"\n",
    "files = [f for f in listdir(dataPath) if isfile(join(dataPath, f))]"
   ]
  },
  {
   "cell_type": "code",
   "execution_count": 3,
   "metadata": {},
   "outputs": [
    {
     "name": "stdout",
     "output_type": "stream",
     "text": [
      "../Competition/赛题1数据集/专利.xlsx\n",
      "../Competition/赛题1数据集/融资信息.xlsx\n",
      "../Competition/赛题1数据集/购地-市场交易-土地抵押.xlsx\n",
      "../Competition/赛题1数据集/年报-对外投资信息.xlsx\n",
      "../Competition/赛题1数据集/商标.xlsx\n",
      "../Competition/赛题1数据集/购地-结果公告.xlsx\n",
      "../Competition/赛题1数据集/债券信息.xlsx\n",
      "../Competition/赛题1数据集/项目信息.xlsx\n",
      "../Competition/赛题1数据集/产品.xlsx\n",
      "../Competition/赛题1数据集/购地-市场交易-土地转让.xlsx\n",
      "../Competition/赛题1数据集/年报-企业基本信息.xlsx\n",
      "../Competition/赛题1数据集/上市信息财务信息-现金流量表.xlsx\n",
      "../Competition/赛题1数据集/年报-企业资产状况信息.xlsx\n",
      "../Competition/赛题1数据集/上市信息财务信息-成长能力指标.xlsx\n",
      "../Competition/赛题1数据集/年报-的对外提供保证担保信息.xlsx\n",
      "../Competition/赛题1数据集/纳税A级年份.xlsx\n",
      "../Competition/赛题1数据集/招投标.xlsx\n",
      "../Competition/赛题1数据集/年报-社保信息.xlsx\n",
      "../Competition/赛题1数据集/上市信息财务信息运营能力指标.xlsx\n",
      "../Competition/赛题1数据集/购地-房地产大地块出让情况.xlsx\n",
      "../Competition/赛题1数据集/购地-房地产大企业购地情况.xlsx\n",
      "../Competition/赛题1数据集/竞品.xlsx\n",
      "../Competition/赛题1数据集/企业评分.xlsx\n",
      "../Competition/赛题1数据集/上市信息财务信息资产负债表.xlsx\n",
      "../Competition/赛题1数据集/软著著作权.xlsx\n",
      "../Competition/赛题1数据集/年报-网站或网点信息.xlsx\n",
      "../Competition/赛题1数据集/年报-股东（发起人）及出资信息.xlsx\n",
      "../Competition/赛题1数据集/上市信息财务信息-财务风险指标.xlsx\n",
      "../Competition/赛题1数据集/上市信息财务信息-利润表.xlsx\n",
      "../Competition/赛题1数据集/上市信息财务信息盈利能力指标.xlsx\n",
      "../Competition/赛题1数据集/工商基本信息表.xlsx\n",
      "../Competition/赛题1数据集/一般纳税人.xlsx\n",
      "../Competition/赛题1数据集/作品著作权.xlsx\n",
      "../Competition/赛题1数据集/海关进出口信用.xlsx\n",
      "../Competition/赛题1数据集/资质认证.xlsx\n",
      "../Competition/赛题1数据集/上市公司财务信息-每股指标.xlsx\n",
      "../Competition/赛题1数据集/年报-股东股权转让.xlsx\n",
      "../Competition/赛题1数据集/购地-地块公示.xlsx\n"
     ]
    }
   ],
   "source": [
    "allData = dict()\n",
    "for f in files:\n",
    "    fullPath = join(dataPath, f)\n",
    "    print(fullPath)\n",
    "    allData[pinyin.get(splitext(f)[0],format=\"numerical\")] = pd.read_excel(fullPath)"
   ]
  },
  {
   "cell_type": "code",
   "execution_count": 8,
   "metadata": {},
   "outputs": [
    {
     "data": {
      "text/html": [
       "<div>\n",
       "<style scoped>\n",
       "    .dataframe tbody tr th:only-of-type {\n",
       "        vertical-align: middle;\n",
       "    }\n",
       "\n",
       "    .dataframe tbody tr th {\n",
       "        vertical-align: top;\n",
       "    }\n",
       "\n",
       "    .dataframe thead th {\n",
       "        text-align: right;\n",
       "    }\n",
       "</style>\n",
       "<table border=\"1\" class=\"dataframe\">\n",
       "  <thead>\n",
       "    <tr style=\"text-align: right;\">\n",
       "      <th></th>\n",
       "      <th>企业编号</th>\n",
       "      <th>专利类型</th>\n",
       "      <th>授权公告日</th>\n",
       "      <th>申请日</th>\n",
       "    </tr>\n",
       "  </thead>\n",
       "  <tbody>\n",
       "    <tr>\n",
       "      <th>0</th>\n",
       "      <td>1001</td>\n",
       "      <td>发明公布</td>\n",
       "      <td>2006-09-08­</td>\n",
       "      <td>2008-03-12</td>\n",
       "    </tr>\n",
       "    <tr>\n",
       "      <th>1</th>\n",
       "      <td>1001</td>\n",
       "      <td>发明公布</td>\n",
       "      <td>2006-06-23­</td>\n",
       "      <td>2007-12-26</td>\n",
       "    </tr>\n",
       "    <tr>\n",
       "      <th>2</th>\n",
       "      <td>1001</td>\n",
       "      <td>发明公布</td>\n",
       "      <td>2006-06-23</td>\n",
       "      <td>2007-12-26</td>\n",
       "    </tr>\n",
       "    <tr>\n",
       "      <th>3</th>\n",
       "      <td>1001</td>\n",
       "      <td>发明公布</td>\n",
       "      <td>2006-09-08</td>\n",
       "      <td>2008-03-12</td>\n",
       "    </tr>\n",
       "    <tr>\n",
       "      <th>4</th>\n",
       "      <td>1002</td>\n",
       "      <td>实用新型</td>\n",
       "      <td>2010-09-26</td>\n",
       "      <td>2011-10-26</td>\n",
       "    </tr>\n",
       "  </tbody>\n",
       "</table>\n",
       "</div>"
      ],
      "text/plain": [
       "   企业编号  专利类型        授权公告日         申请日\n",
       "0  1001  发明公布  2006-09-08­  2008-03-12\n",
       "1  1001  发明公布  2006-06-23­  2007-12-26\n",
       "2  1001  发明公布   2006-06-23  2007-12-26\n",
       "3  1001  发明公布   2006-09-08  2008-03-12\n",
       "4  1002  实用新型   2010-09-26  2011-10-26"
      ]
     },
     "execution_count": 8,
     "metadata": {},
     "output_type": "execute_result"
    }
   ],
   "source": [
    "allData['zhuan1li4'].head()"
   ]
  },
  {
   "cell_type": "code",
   "execution_count": null,
   "metadata": {},
   "outputs": [],
   "source": []
  }
 ],
 "metadata": {
  "kernelspec": {
   "display_name": "Python 3",
   "language": "python",
   "name": "python3"
  },
  "language_info": {
   "codemirror_mode": {
    "name": "ipython",
    "version": 3
   },
   "file_extension": ".py",
   "mimetype": "text/x-python",
   "name": "python",
   "nbconvert_exporter": "python",
   "pygments_lexer": "ipython3",
   "version": "3.6.5"
  }
 },
 "nbformat": 4,
 "nbformat_minor": 2
}
