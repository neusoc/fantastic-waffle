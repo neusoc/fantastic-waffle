{
 "cells": [
  {
   "cell_type": "code",
   "execution_count": 1,
   "metadata": {},
   "outputs": [],
   "source": [
    "import pandas as pd\n",
    "from os import listdir, popen\n",
    "from os.path import isfile, join, basename,splitext\n",
    "import pinyin\n",
    "%matplotlib inline"
   ]
  },
  {
   "cell_type": "code",
   "execution_count": 2,
   "metadata": {},
   "outputs": [],
   "source": [
    "#遍历目录\n",
    "dataPath = \"../Competition/赛题1数据集\"\n",
    "files = [f for f in listdir(dataPath) if isfile(join(dataPath, f))]"
   ]
  },
  {
   "cell_type": "code",
   "execution_count": 3,
   "metadata": {},
   "outputs": [
    {
     "name": "stdout",
     "output_type": "stream",
     "text": [
      "../Competition/赛题1数据集/专利.xlsx\n",
      "../Competition/赛题1数据集/融资信息.xlsx\n",
      "../Competition/赛题1数据集/购地-市场交易-土地抵押.xlsx\n",
      "../Competition/赛题1数据集/年报-对外投资信息.xlsx\n",
      "../Competition/赛题1数据集/商标.xlsx\n",
      "../Competition/赛题1数据集/购地-结果公告.xlsx\n",
      "../Competition/赛题1数据集/债券信息.xlsx\n",
      "../Competition/赛题1数据集/项目信息.xlsx\n",
      "../Competition/赛题1数据集/产品.xlsx\n",
      "../Competition/赛题1数据集/购地-市场交易-土地转让.xlsx\n",
      "../Competition/赛题1数据集/年报-企业基本信息.xlsx\n",
      "../Competition/赛题1数据集/上市信息财务信息-现金流量表.xlsx\n",
      "../Competition/赛题1数据集/年报-企业资产状况信息.xlsx\n",
      "../Competition/赛题1数据集/上市信息财务信息-成长能力指标.xlsx\n",
      "../Competition/赛题1数据集/年报-的对外提供保证担保信息.xlsx\n",
      "../Competition/赛题1数据集/纳税A级年份.xlsx\n",
      "../Competition/赛题1数据集/招投标.xlsx\n",
      "../Competition/赛题1数据集/年报-社保信息.xlsx\n",
      "../Competition/赛题1数据集/上市信息财务信息运营能力指标.xlsx\n",
      "../Competition/赛题1数据集/购地-房地产大地块出让情况.xlsx\n",
      "../Competition/赛题1数据集/购地-房地产大企业购地情况.xlsx\n",
      "../Competition/赛题1数据集/竞品.xlsx\n",
      "../Competition/赛题1数据集/企业评分.xlsx\n",
      "../Competition/赛题1数据集/上市信息财务信息资产负债表.xlsx\n",
      "../Competition/赛题1数据集/软著著作权.xlsx\n",
      "../Competition/赛题1数据集/年报-网站或网点信息.xlsx\n",
      "../Competition/赛题1数据集/年报-股东（发起人）及出资信息.xlsx\n",
      "../Competition/赛题1数据集/上市信息财务信息-财务风险指标.xlsx\n",
      "../Competition/赛题1数据集/上市信息财务信息-利润表.xlsx\n",
      "../Competition/赛题1数据集/上市信息财务信息盈利能力指标.xlsx\n",
      "../Competition/赛题1数据集/工商基本信息表.xlsx\n",
      "../Competition/赛题1数据集/一般纳税人.xlsx\n",
      "../Competition/赛题1数据集/作品著作权.xlsx\n",
      "../Competition/赛题1数据集/海关进出口信用.xlsx\n",
      "../Competition/赛题1数据集/资质认证.xlsx\n",
      "../Competition/赛题1数据集/上市公司财务信息-每股指标.xlsx\n",
      "../Competition/赛题1数据集/年报-股东股权转让.xlsx\n",
      "../Competition/赛题1数据集/购地-地块公示.xlsx\n"
     ]
    }
   ],
   "source": [
    "#读数据\n",
    "allData = dict()\n",
    "for f in files:\n",
    "    fullPath = join(dataPath, f)\n",
    "    print(fullPath)\n",
    "    allData[splitext(f)[0]] = pd.read_excel(fullPath)"
   ]
  },
  {
   "cell_type": "code",
   "execution_count": 4,
   "metadata": {},
   "outputs": [],
   "source": [
    "#训练数据的标注\n",
    "score = allData['企业评分']\n",
    "score.to_excel(\"real.xlsx\", header=False, index=False, engine='xlsxwriter', float_format='%d', sheet_name='Sheet')"
   ]
  },
  {
   "cell_type": "code",
   "execution_count": 5,
   "metadata": {},
   "outputs": [],
   "source": [
    "#专利数量\n",
    "zl = allData['专利']\n",
    "zl_count = zl.iloc[:,[0,1]].groupby('企业编号').count()"
   ]
  },
  {
   "cell_type": "code",
   "execution_count": 65,
   "metadata": {},
   "outputs": [],
   "source": [
    "#合并到score\n",
    "score = score.merge(zl_count,how = 'left', on='企业编号')"
   ]
  },
  {
   "cell_type": "code",
   "execution_count": 68,
   "metadata": {},
   "outputs": [
    {
     "data": {
      "text/html": [
       "<div>\n",
       "<style scoped>\n",
       "    .dataframe tbody tr th:only-of-type {\n",
       "        vertical-align: middle;\n",
       "    }\n",
       "\n",
       "    .dataframe tbody tr th {\n",
       "        vertical-align: top;\n",
       "    }\n",
       "\n",
       "    .dataframe thead th {\n",
       "        text-align: right;\n",
       "    }\n",
       "</style>\n",
       "<table border=\"1\" class=\"dataframe\">\n",
       "  <thead>\n",
       "    <tr style=\"text-align: right;\">\n",
       "      <th></th>\n",
       "      <th>企业编号</th>\n",
       "      <th>企业总评分</th>\n",
       "      <th>专利类型</th>\n",
       "      <th>轮次</th>\n",
       "    </tr>\n",
       "  </thead>\n",
       "  <tbody>\n",
       "    <tr>\n",
       "      <th>0</th>\n",
       "      <td>1001</td>\n",
       "      <td>75.374276</td>\n",
       "      <td>4.0</td>\n",
       "      <td>1.0</td>\n",
       "    </tr>\n",
       "    <tr>\n",
       "      <th>1</th>\n",
       "      <td>1002</td>\n",
       "      <td>79.830122</td>\n",
       "      <td>2.0</td>\n",
       "      <td>2.0</td>\n",
       "    </tr>\n",
       "    <tr>\n",
       "      <th>2</th>\n",
       "      <td>1003</td>\n",
       "      <td>78.318264</td>\n",
       "      <td>1713.0</td>\n",
       "      <td>1.0</td>\n",
       "    </tr>\n",
       "    <tr>\n",
       "      <th>3</th>\n",
       "      <td>1004</td>\n",
       "      <td>83.253376</td>\n",
       "      <td>7.0</td>\n",
       "      <td>1.0</td>\n",
       "    </tr>\n",
       "    <tr>\n",
       "      <th>4</th>\n",
       "      <td>1005</td>\n",
       "      <td>83.291493</td>\n",
       "      <td>14.0</td>\n",
       "      <td>1.0</td>\n",
       "    </tr>\n",
       "  </tbody>\n",
       "</table>\n",
       "</div>"
      ],
      "text/plain": [
       "   企业编号      企业总评分    专利类型   轮次\n",
       "0  1001  75.374276     4.0  1.0\n",
       "1  1002  79.830122     2.0  2.0\n",
       "2  1003  78.318264  1713.0  1.0\n",
       "3  1004  83.253376     7.0  1.0\n",
       "4  1005  83.291493    14.0  1.0"
      ]
     },
     "execution_count": 68,
     "metadata": {},
     "output_type": "execute_result"
    }
   ],
   "source": [
    "#融资次数，合并到score\n",
    "rz = allData['融资信息']\n",
    "rz_count = rz.iloc[:,[0,2]].groupby('企业编号').count()\n",
    "score = score.merge(rz_count,how = 'left', on='企业编号')\n",
    "score.head()"
   ]
  },
  {
   "cell_type": "code",
   "execution_count": 73,
   "metadata": {},
   "outputs": [],
   "source": [
    "#摊薄净资产收益率\n",
    "ylnl = allData['上市信息财务信息盈利能力指标']\n",
    "roe = ylnl.iloc[:,[0,4]]\n",
    "roe.iloc[:,1] = pd.to_numeric(roe.iloc[:,1].str.rstrip('%'), errors='coerce')\n",
    "roe_mean = roe.groupby('企业编号').mean()"
   ]
  },
  {
   "cell_type": "code",
   "execution_count": 103,
   "metadata": {},
   "outputs": [
    {
     "name": "stderr",
     "output_type": "stream",
     "text": [
      "/data/anaconda3/lib/python3.6/site-packages/pandas/core/indexing.py:543: SettingWithCopyWarning: \n",
      "A value is trying to be set on a copy of a slice from a DataFrame.\n",
      "Try using .loc[row_indexer,col_indexer] = value instead\n",
      "\n",
      "See the caveats in the documentation: http://pandas.pydata.org/pandas-docs/stable/indexing.html#indexing-view-versus-copy\n",
      "  self.obj[item] = s\n"
     ]
    }
   ],
   "source": [
    "#合并到score\n",
    "score = score.merge(roe_mean,how = 'left', on='企业编号')\n",
    "score.head()"
   ]
  },
  {
   "cell_type": "code",
   "execution_count": 106,
   "metadata": {},
   "outputs": [],
   "source": [
    "#简单线性回归\n",
    "from sklearn import linear_model"
   ]
  },
  {
   "cell_type": "code",
   "execution_count": 112,
   "metadata": {},
   "outputs": [],
   "source": [
    "y=score.iloc[:,1]\n",
    "X=score.iloc[:,[4]]"
   ]
  },
  {
   "cell_type": "code",
   "execution_count": 114,
   "metadata": {},
   "outputs": [],
   "source": [
    "lm = linear_model.LinearRegression()\n",
    "model = lm.fit(X,y)\n"
   ]
  },
  {
   "cell_type": "code",
   "execution_count": 115,
   "metadata": {},
   "outputs": [
    {
     "data": {
      "text/plain": [
       "0.0002780733833822602"
      ]
     },
     "execution_count": 115,
     "metadata": {},
     "output_type": "execute_result"
    }
   ],
   "source": [
    "lm.score(X,y)"
   ]
  },
  {
   "cell_type": "code",
   "execution_count": 116,
   "metadata": {},
   "outputs": [
    {
     "data": {
      "text/plain": [
       "array([0.00065702])"
      ]
     },
     "execution_count": 116,
     "metadata": {},
     "output_type": "execute_result"
    }
   ],
   "source": [
    "lm.coef_"
   ]
  },
  {
   "cell_type": "code",
   "execution_count": 134,
   "metadata": {},
   "outputs": [],
   "source": [
    "#预测结果\n",
    "predictions = lm.predict(X)\n",
    "predictDf = pd.DataFrame({'a': score.企业编号,'b':predictions })\n",
    "predictDf.to_excel(\"predict.xlsx\", header=False, index=False, engine='xlsxwriter', float_format='%d', sheet_name='Sheet')"
   ]
  },
  {
   "cell_type": "code",
   "execution_count": 146,
   "metadata": {},
   "outputs": [
    {
     "name": "stdout",
     "output_type": "stream",
     "text": [
      "5.0990195135927845\n"
     ]
    }
   ],
   "source": [
    "#输出误差，越小越好\n",
    "cmd = 'java -jar  ../Competition/mission1_test.jar  ./real.xlsx ./predict.xlsx'\n",
    "with popen(cmd) as f:\n",
    "    err = float(f.read().strip())\n",
    "    print(err)"
   ]
  },
  {
   "cell_type": "code",
   "execution_count": null,
   "metadata": {},
   "outputs": [],
   "source": []
  }
 ],
 "metadata": {
  "kernelspec": {
   "display_name": "Python 3",
   "language": "python",
   "name": "python3"
  },
  "language_info": {
   "codemirror_mode": {
    "name": "ipython",
    "version": 3
   },
   "file_extension": ".py",
   "mimetype": "text/x-python",
   "name": "python",
   "nbconvert_exporter": "python",
   "pygments_lexer": "ipython3",
   "version": "3.6.5"
  }
 },
 "nbformat": 4,
 "nbformat_minor": 2
}
